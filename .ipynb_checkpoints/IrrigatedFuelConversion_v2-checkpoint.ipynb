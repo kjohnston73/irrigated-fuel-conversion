{
 "cells": [
  {
   "cell_type": "code",
   "execution_count": 1,
   "metadata": {},
   "outputs": [],
   "source": [
    "import ee \n",
    "import os\n",
    "import geemap\n",
    "import ipyleaflet\n",
    "ee.Initialize()\n"
   ]
  },
  {
   "cell_type": "markdown",
   "metadata": {},
   "source": [
    "LandSat8 data"
   ]
  },
  {
   "cell_type": "code",
   "execution_count": 3,
   "metadata": {},
   "outputs": [],
   "source": [
    "# US lower 48 states aoi\n",
    "lower48 = ee.FeatureCollection(\"USDOS/LSIB_SIMPLE/2017\").filter(ee.Filter.eq('country_na', 'United States')).geometry().dissolve()"
   ]
  },
  {
   "cell_type": "code",
   "execution_count": 4,
   "metadata": {},
   "outputs": [],
   "source": [
    "# function to mask out cloud & cloud shadows\n",
    "def maskL8SR(image):\n",
    "  cloudShadowBitMask = ee.Number(2).pow(3).int()\n",
    "  cloudsBitMask = ee.Number(2).pow(5).int()\n",
    "  qa = image.select('QA_PIXEL')\n",
    "  mask = qa.bitwiseAnd(cloudShadowBitMask).eq(0).And(qa.bitwiseAnd(cloudsBitMask).eq(0))\n",
    "  return image.updateMask(mask)"
   ]
  },
  {
   "cell_type": "code",
   "execution_count": 5,
   "metadata": {},
   "outputs": [],
   "source": [
    "# function to compute NDVI\n",
    "def getNDVI(image):\n",
    "    return image.normalizedDifference(['SR_B5', 'SR_B4'])"
   ]
  },
  {
   "cell_type": "code",
   "execution_count": 6,
   "metadata": {},
   "outputs": [],
   "source": [
    "# function to compute NDMI\n",
    "def getNDMI(image):\n",
    "    return image.normalizedDifference(['SR_B5', 'SR_B6'])"
   ]
  },
  {
   "cell_type": "code",
   "execution_count": 7,
   "metadata": {},
   "outputs": [],
   "source": [
    "# pull LandSat8 data filtered by date, lower48 aoi, and mask out cloud & cloud shadow\n",
    "ls8 = (ee.ImageCollection('LANDSAT/LC08/C02/T1_L2')\n",
    "    .filterDate('2021-9-01', '2021-11-01')\n",
    "    .filterBounds(lower48)\n",
    "    .map(maskL8SR))"
   ]
  },
  {
   "cell_type": "code",
   "execution_count": 8,
   "metadata": {},
   "outputs": [],
   "source": [
    "# compute NDVI\n",
    "ls8ndvi = ls8.map(getNDVI)\n",
    "# create mean composite image\n",
    "ls8ndvimean = ls8ndvi.mean()\n",
    "# create mask for NDVI values >0.3 (***Carl's workflow did this for values >0.4 but >0.30 seemed to capture more truly irrigated areas***)\n",
    "ndviMask = ls8ndvimean.updateMask(ls8ndvimean.gte(0.3))"
   ]
  },
  {
   "cell_type": "code",
   "execution_count": 9,
   "metadata": {},
   "outputs": [],
   "source": [
    "# compute NDMI\n",
    "ls8ndmi = ls8.map(getNDMI)\n",
    "# create mean composite image\n",
    "ls8ndmimean = ls8ndmi.mean()\n",
    "# create mask for NDMI values >0.10 (***Carl's workflow did this for values >0.13 but >0.10 seemed to capture more truly irrigated areas***)\n",
    "ndmiMask = ls8ndmimean.updateMask(ls8ndmimean.gte(0.10))"
   ]
  },
  {
   "cell_type": "code",
   "execution_count": 10,
   "metadata": {},
   "outputs": [],
   "source": [
    "# Create NDVI & NDMI mosaic mask\n",
    "ndvi_ndmi_mosaic = ndmiMask.And(ndviMask)\n",
    "# Clip to lower48 AOI\n",
    "# ndvi_ndmi_clip = ndvi_ndmi_mosaic.clip(lower48)"
   ]
  },
  {
   "cell_type": "markdown",
   "metadata": {},
   "source": [
    "USA census urban areas"
   ]
  },
  {
   "cell_type": "code",
   "execution_count": 11,
   "metadata": {},
   "outputs": [],
   "source": [
    "# census dataset... millions of polygons... but the only census data set with population as a property\n",
    "#popThresh = 10\n",
    "census = ee.FeatureCollection(\"TIGER/2010/Blocks\").filterBounds(lower48).filter(ee.Filter.gt('pop10',popThresh)) # would want really low but non-zero pop to exclude wildlands\n",
    "# print(f\"Census blocks above threshold: {census.size().getInfo()}\") # useful but .getInfo() calls can take some time"
   ]
  },
  {
   "cell_type": "code",
   "execution_count": 12,
   "metadata": {},
   "outputs": [],
   "source": [
    "# Create surrogate \"city limits\"\n",
    "\n",
    "# maybe by state (statefp10) to reduce memory request?...\n",
    "\n",
    "# dissolve census blocks by _________, summing population (pop10)\n",
    "\n",
    "# extract dissolved polygons with gte # people\n",
    "\n",
    "# dissolve neighboring polygons to make multipolygon feature collection of \"city limits\""
   ]
  },
  {
   "cell_type": "code",
   "execution_count": 13,
   "metadata": {},
   "outputs": [],
   "source": [
    "# buffer \"city limits\" by 1600m to capture irrigated areas located just outside \"city limits\" \n",
    "# logic: often golf courses, cemetaries, parks, etc. are outside of populated areas or \"city limits\""
   ]
  },
  {
   "cell_type": "code",
   "execution_count": 14,
   "metadata": {},
   "outputs": [],
   "source": [
    "# clip ndvi/ndmi raster to buffered \"city limits\" polygons\n",
    "#maskurban = ndvi_ndmi_mosaic.clip(census)\n",
    "\n",
    "# convert to binary, 1 = irrigated and 0 = not irrigated"
   ]
  },
  {
   "cell_type": "markdown",
   "metadata": {},
   "source": [
    "FBFM data\n",
    "\n",
    "https://github.com/kyle-woodward/kaza-lc\n",
    "\n",
    "earthengine ls projects/pyregence-ee/assets/conus/fuels\n"
   ]
  },
  {
   "cell_type": "code",
   "execution_count": 15,
   "metadata": {},
   "outputs": [],
   "source": [
    "# calling the fbfm raster from the cloud....\n",
    "fm40 = ee.Image(\"projects/pyregence-ee/assets/conus/fuels/Fuels_FM40_2021_12\")"
   ]
  },
  {
   "cell_type": "code",
   "execution_count": 16,
   "metadata": {},
   "outputs": [
    {
     "data": {
      "text/plain": [
       "<ee.image.Image at 0x16eab611cd0>"
      ]
     },
     "execution_count": 16,
     "metadata": {},
     "output_type": "execute_result"
    }
   ],
   "source": [
    "fm40"
   ]
  },
  {
   "cell_type": "code",
   "execution_count": 17,
   "metadata": {},
   "outputs": [],
   "source": [
    "# clip fbfm raster to buffered \"city limits\" polygons\n",
    "fm40_clip = fm40.clip(census)\n",
    "# where clipped fbfm pixel value = one of the grass fuel models & maskurban pixel value = 1, replace fbfm with NB fuel model \n",
    "fm40_grass_target = fm40_clip.gte(101).And(fm40_clip.lte(109)) # GR fuel model values, may need to expand to GS fuel models as well (121-124)\n",
    "fm40_NB_replace = fm40_clip.where(fm40_grass_target.And(maskurban),93) # 93 is NB Agriculture\n"
   ]
  },
  {
   "cell_type": "code",
   "execution_count": 18,
   "metadata": {},
   "outputs": [
    {
     "data": {
      "application/vnd.jupyter.widget-view+json": {
       "model_id": "40dffe05e29447c1af90e5f74428bc99",
       "version_major": 2,
       "version_minor": 0
      },
      "text/plain": [
       "Map(center=[33.929, -118.03], controls=(WidgetControl(options=['position', 'transparent_bg'], widget=HBox(chil…"
      ]
     },
     "execution_count": 18,
     "metadata": {},
     "output_type": "execute_result"
    }
   ],
   "source": [
    "Map=geemap.Map()\n",
    "censusImage = ee.Image().float().paint(census, 'pop10'); # for vector data you can .paint() them on an image, can speed up display in some cases\n",
    "# Map.addLayer(ndviMask,maskVis,'ndviMask')\n",
    "# Map.addLayer(ndmiMask,maskVis,'ndmiMask')\n",
    "Map.addLayer(censusImage,{'palette': 'purple'},'census blocks above pop thresh',False,0.5)\n",
    "Map.addLayer(fm40, {'min':91,'max':204,'palette':['grey','yellow','orange','brown','green','blue','purple']},'FM40')\n",
    "#Map.addLayer(fm40_clip,{'min':91,'max':204,'palette':['grey','yellow','orange','brown','green','blue','purple']},'FM40 clip to census blocks',False)\n",
    "Map.addLayer(maskurban, {'palette':'white'},'maskurban',False)\n",
    "#Map.addLayer(fm40_grass_target.selfMask(), {'min':0,'max':1,'palette':['black','yellow']},'fm40 grass target',False)\n",
    "#Map.addLayer(fm40_NB_replace, {'min':91,'max':204,'palette':['grey','yellow','orange','brown','green','blue','purple']},'fm40 replace grass w NonBurnable')\n",
    "Map.setCenter(-118.03,33.929,13)\n",
    "\n",
    "Map\n"
   ]
  },
  {
   "cell_type": "code",
   "execution_count": null,
   "metadata": {},
   "outputs": [],
   "source": []
  }
 ],
 "metadata": {
  "kernelspec": {
   "display_name": "Python 3 (ipykernel)",
   "language": "python",
   "name": "python3"
  },
  "language_info": {
   "codemirror_mode": {
    "name": "ipython",
    "version": 3
   },
   "file_extension": ".py",
   "mimetype": "text/x-python",
   "name": "python",
   "nbconvert_exporter": "python",
   "pygments_lexer": "ipython3",
   "version": "3.8.13"
  },
  "vscode": {
   "interpreter": {
    "hash": "407b8088d34178e31e46db624050df0addcc8119aba4af63864e7e4cd7455aca"
   }
  }
 },
 "nbformat": 4,
 "nbformat_minor": 4
}
