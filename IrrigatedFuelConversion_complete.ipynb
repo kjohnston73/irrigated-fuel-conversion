{
 "cells": [
  {
   "cell_type": "code",
   "execution_count": 1,
   "metadata": {},
   "outputs": [],
   "source": [
    "import ee \n",
    "import os\n",
    "import geemap\n",
    "\n",
    "ee.Initialize()\n"
   ]
  },
  {
   "cell_type": "markdown",
   "metadata": {},
   "source": [
    "LandSat8 data"
   ]
  },
  {
   "cell_type": "code",
   "execution_count": 2,
   "metadata": {},
   "outputs": [],
   "source": [
    "# US lower 48 states aoi\n",
    "lower48 = ee.FeatureCollection(\"USDOS/LSIB_SIMPLE/2017\").filter(ee.Filter.eq('country_na', 'United States')).geometry().dissolve()"
   ]
  },
  {
   "cell_type": "code",
   "execution_count": 3,
   "metadata": {},
   "outputs": [],
   "source": [
    "# function to mask out cloud & cloud shadows\n",
    "def maskL8SR(image):\n",
    "  cloudShadowBitMask = ee.Number(2).pow(3).int()\n",
    "  cloudsBitMask = ee.Number(2).pow(5).int()\n",
    "  qa = image.select('QA_PIXEL')\n",
    "  mask = qa.bitwiseAnd(cloudShadowBitMask).eq(0).And(qa.bitwiseAnd(cloudsBitMask).eq(0))\n",
    "  return image.updateMask(mask)"
   ]
  },
  {
   "cell_type": "code",
   "execution_count": 4,
   "metadata": {},
   "outputs": [],
   "source": [
    "# function to compute NDVI\n",
    "def getNDVI(image):\n",
    "    return image.normalizedDifference(['SR_B5', 'SR_B4'])"
   ]
  },
  {
   "cell_type": "code",
   "execution_count": 5,
   "metadata": {},
   "outputs": [],
   "source": [
    "# function to compute NDMI\n",
    "def getNDMI(image):\n",
    "    return image.normalizedDifference(['SR_B5', 'SR_B6'])"
   ]
  },
  {
   "cell_type": "code",
   "execution_count": 6,
   "metadata": {},
   "outputs": [],
   "source": [
    "# pull LandSat8 data filtered by date, lower48 aoi, and mask out cloud & cloud shadow\n",
    "ls8 = (ee.ImageCollection('LANDSAT/LC08/C02/T1_L2')\n",
    "    .filterDate('2021-9-01', '2021-11-01')\n",
    "    .filterBounds(lower48)\n",
    "    .map(maskL8SR))"
   ]
  },
  {
   "cell_type": "code",
   "execution_count": 45,
   "metadata": {},
   "outputs": [],
   "source": [
    "# compute NDVI\n",
    "ls8ndvi = ls8.map(getNDVI)\n",
    "# create mean composite image\n",
    "ls8ndvimean = ls8ndvi.mean()\n",
    "# create mask for NDVI values >0.2 (***Carl's workflow did this for values >0.4 but >0.25 seemed to capture more truly irrigated areas***)\n",
    "ndviMask = ls8ndvimean.updateMask(ls8ndvimean.gte(0.25))"
   ]
  },
  {
   "cell_type": "code",
   "execution_count": 46,
   "metadata": {},
   "outputs": [],
   "source": [
    "# compute NDMI\n",
    "ls8ndmi = ls8.map(getNDMI)\n",
    "# create mean composite image\n",
    "ls8ndmimean = ls8ndmi.mean()\n",
    "# create mask for NDMI values >0.05 (***Carl's workflow did this for values >0.13 but >0.10 seemed to capture more truly irrigated areas***)\n",
    "ndmiMask = ls8ndmimean.updateMask(ls8ndmimean.gte(0.10))"
   ]
  },
  {
   "cell_type": "code",
   "execution_count": 47,
   "metadata": {},
   "outputs": [],
   "source": [
    "# Create NDVI & NDMI mosaic mask\n",
    "ndvi_ndmi_mosaic = ndmiMask.And(ndviMask)"
   ]
  },
  {
   "cell_type": "markdown",
   "metadata": {},
   "source": [
    "SIG WUI-non-WUI raster"
   ]
  },
  {
   "cell_type": "code",
   "execution_count": 48,
   "metadata": {},
   "outputs": [],
   "source": [
    "# read in wui raster\n",
    "wui = ee.Image('projects/pyregence-ee/assets/conus/vulnerability/wui_v3_w_nonWUIclasses')"
   ]
  },
  {
   "cell_type": "code",
   "execution_count": 49,
   "metadata": {},
   "outputs": [],
   "source": [
    "# mask out wildland\n",
    "wuimask = wui.updateMask(wui.lte(4))"
   ]
  },
  {
   "cell_type": "code",
   "execution_count": 50,
   "metadata": {},
   "outputs": [],
   "source": [
    "# replace where ndvi_ndmi mask & wui overlap with new value (5)\n",
    "wuitest = ndvi_ndmi_mosaic.where(wuimask.select('wui_class').gte(0), 5)"
   ]
  },
  {
   "cell_type": "code",
   "execution_count": 51,
   "metadata": {},
   "outputs": [],
   "source": [
    "# extract ndvi_ndmi wui overlap areas\n",
    "wui_index = wuitest.updateMask(wuitest.gte(5))"
   ]
  },
  {
   "cell_type": "code",
   "execution_count": 52,
   "metadata": {},
   "outputs": [],
   "source": [
    "# calling the fbfm raster from the cloud\n",
    "fm40 = ee.Image(\"projects/pyregence-ee/assets/conus/fuels/Fuels_FM40_2021_12\")"
   ]
  },
  {
   "cell_type": "code",
   "execution_count": 53,
   "metadata": {},
   "outputs": [],
   "source": [
    "# mask where fbfm is grass or grass-shrub\n",
    "fm40_grass_target = fm40.gte(101).And(fm40.lte(124)) # GR & GS fuel models"
   ]
  },
  {
   "cell_type": "code",
   "execution_count": 54,
   "metadata": {},
   "outputs": [],
   "source": [
    "#mask where wui_index and gr/gs overlap\n",
    "finalmask = wui_index.updateMask(fm40_grass_target)"
   ]
  },
  {
   "cell_type": "code",
   "execution_count": 57,
   "metadata": {},
   "outputs": [],
   "source": [
    "# Reduce finalmask to only areas gte 0.5 acre (~2000 sq m)\n",
    "minArea = 2000\n",
    "maxSize = 200\n",
    "pixelCount = finalmask.connectedPixelCount(maxSize)\n",
    "minPixelCount = ee.Image(minArea).divide(ee.Image.pixelArea())\n",
    "finalmask = finalmask.updateMask(pixelCount.gte(minPixelCount))"
   ]
  },
  {
   "cell_type": "code",
   "execution_count": 60,
   "metadata": {},
   "outputs": [],
   "source": [
    "# where finalmask, replace fbfm with NB fuel model 93 \n",
    "fm40_NB_replace = fm40.where(finalmask,93) # 93 is NB Agriculture"
   ]
  },
  {
   "cell_type": "code",
   "execution_count": 61,
   "metadata": {
    "scrolled": false
   },
   "outputs": [
    {
     "data": {
      "application/vnd.jupyter.widget-view+json": {
       "model_id": "92868bca423343a89de22107b8508a8c",
       "version_major": 2,
       "version_minor": 0
      },
      "text/plain": [
       "Map(center=[33.929, -118.03], controls=(WidgetControl(options=['position', 'transparent_bg'], widget=HBox(chil…"
      ]
     },
     "execution_count": 61,
     "metadata": {},
     "output_type": "execute_result"
    }
   ],
   "source": [
    "Map=geemap.Map()\n",
    "#Map.addLayer(ndvi_ndmi_mosaic, {'palette': 'red'}, 'ndvi_ndmi mask')\n",
    "#Map.addLayer(wui_index, {'palette': 'purple'}, 'wui_index mask')\n",
    "Map.addLayer(finalmask, {'palette': 'black'}, 'final mask')\n",
    "Map.addLayer(fm40, {'min':91,'max':204,'palette':['grey','yellow','orange','brown','green','blue','purple']},'FM40')\n",
    "#Map.addLayer(fm40_grass_target.selfMask(), {'min':0,'max':1,'palette':['yellow']},'fm40 grass target',False)\n",
    "Map.addLayer(fm40_NB_replace, {'min':91,'max':204,'palette':['grey','yellow','orange','brown','green','blue','purple']},'fm40 replace grass w NonBurnable')\n",
    "# Map.addLayer(wui.select('wui_class'),{'min':1,'max':6, 'palette':['yellow','orange','red','grey','green']}, 'WUI w Non-WUI Urban and Wildland')\n",
    "# Map.addLayer(wuimask.select('wui_class'),{'min':1,'max':5, 'palette':['yellow','orange','red','grey']}, 'WUI mask')\n",
    "Map.setCenter(-118.03,33.929,13)\n",
    "\n",
    "Map\n"
   ]
  },
  {
   "cell_type": "code",
   "execution_count": 20,
   "metadata": {},
   "outputs": [],
   "source": [
    "# task = ee.batch.Export.image.toAsset(\n",
    "#     image= fm40_NB_replace,\n",
    "#     description= 'export irrigation replacements FM40',\n",
    "#     assetId= f'projects/pyregence-ee/assets/conus/fuels/Fuels_FM40_irrigation_replacement_test',\n",
    "#     region = fm40_NB_replace.geometry(),\n",
    "#     crs= 'EPSG:5070', \n",
    "#     maxPixels= 1e13,\n",
    "#     pyramidingPolicy = {\".default\":\"mode\"}\n",
    "#     )\n",
    "# task.start()"
   ]
  },
  {
   "cell_type": "code",
   "execution_count": 21,
   "metadata": {},
   "outputs": [],
   "source": []
  },
  {
   "cell_type": "code",
   "execution_count": null,
   "metadata": {},
   "outputs": [],
   "source": []
  },
  {
   "cell_type": "code",
   "execution_count": null,
   "metadata": {},
   "outputs": [],
   "source": []
  }
 ],
 "metadata": {
  "kernelspec": {
   "display_name": "Python 3 (ipykernel)",
   "language": "python",
   "name": "python3"
  },
  "language_info": {
   "codemirror_mode": {
    "name": "ipython",
    "version": 3
   },
   "file_extension": ".py",
   "mimetype": "text/x-python",
   "name": "python",
   "nbconvert_exporter": "python",
   "pygments_lexer": "ipython3",
   "version": "3.8.13"
  },
  "vscode": {
   "interpreter": {
    "hash": "407b8088d34178e31e46db624050df0addcc8119aba4af63864e7e4cd7455aca"
   }
  }
 },
 "nbformat": 4,
 "nbformat_minor": 4
}
